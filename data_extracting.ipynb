{
 "cells": [
  {
   "cell_type": "markdown",
   "metadata": {},
   "source": [
    "# __🌡 Chennai Temperature Prediction__"
   ]
  },
  {
   "cell_type": "markdown",
   "metadata": {},
   "source": [
    "## __Data Extraction:__\n",
    "- _The data is extracted from India Meteorological Department (IMD) by using the python library \"imdlib\"._"
   ]
  },
  {
   "cell_type": "code",
   "execution_count": null,
   "metadata": {},
   "outputs": [],
   "source": [
    "#Import dependencies\n",
    "import imdlib as imd"
   ]
  },
  {
   "cell_type": "markdown",
   "metadata": {},
   "source": [
    "### __Extracting The Minimum Temperature Data:__"
   ]
  },
  {
   "cell_type": "code",
   "execution_count": null,
   "metadata": {},
   "outputs": [],
   "source": [
    "#The data is available from 1951-2023 only\n",
    "start_yr =1951 \n",
    "end_yr = 2023\n",
    "variable = 'tmin'\n",
    "data = imd.get_data(variable, start_yr, end_yr, fn_format='yearwise')"
   ]
  },
  {
   "cell_type": "code",
   "execution_count": 51,
   "metadata": {},
   "outputs": [
    {
     "data": {
      "text/plain": [
       "<imdlib.core.IMD at 0x14a0076e650>"
      ]
     },
     "execution_count": 51,
     "metadata": {},
     "output_type": "execute_result"
    }
   ],
   "source": [
    "start_yr = 1951\n",
    "end_yr = 2023\n",
    "variable = 'tmin'\n",
    "file_dir = (r'C:\\Users\\banup\\Desktop\\Temperature Prediction\\tmin') \n",
    "data = imd.open_data(variable, start_yr, end_yr,'yearwise', file_dir)\n",
    "data"
   ]
  },
  {
   "cell_type": "code",
   "execution_count": null,
   "metadata": {},
   "outputs": [],
   "source": [
    "ds = data.get_xarray()\n",
    "ds"
   ]
  },
  {
   "cell_type": "code",
   "execution_count": 53,
   "metadata": {},
   "outputs": [],
   "source": [
    "#Saving the data as \".csv\" format\n",
    "#Chennai's latitude and longitude\n",
    "lat = 13.0843\n",
    "lon = 80.2705\n",
    "data.to_csv('temperature_min_chennai.csv', lat, lon, file_dir)"
   ]
  },
  {
   "cell_type": "markdown",
   "metadata": {},
   "source": [
    "### __Extracting The Maximum Temperature Data:__"
   ]
  },
  {
   "cell_type": "code",
   "execution_count": null,
   "metadata": {},
   "outputs": [],
   "source": [
    "#The data is available from 1951-2023 only\n",
    "start_yr =1951 \n",
    "end_yr = 2023\n",
    "variable = 'tmax'\n",
    "data = imd.get_data(variable, start_yr, end_yr, fn_format='yearwise')"
   ]
  },
  {
   "cell_type": "code",
   "execution_count": null,
   "metadata": {},
   "outputs": [],
   "source": [
    "start_yr = 1951\n",
    "end_yr = 2023\n",
    "variable = 'tmax'\n",
    "file_dir = (r'C:\\Users\\banup\\Desktop\\Temperature Prediction\\tmax') \n",
    "data = imd.open_data(variable, start_yr, end_yr,'yearwise', file_dir)\n",
    "data"
   ]
  },
  {
   "cell_type": "code",
   "execution_count": null,
   "metadata": {},
   "outputs": [],
   "source": [
    "ds = data.get_xarray()\n",
    "ds"
   ]
  },
  {
   "cell_type": "code",
   "execution_count": null,
   "metadata": {},
   "outputs": [],
   "source": [
    "#Saving the data as \".csv\" format\n",
    "#Chennai's latitude and longitude\n",
    "lat = 13.0843\n",
    "lon = 80.2705\n",
    "data.to_csv('temperature_max_chennai.csv', lat, lon, file_dir)"
   ]
  }
 ],
 "metadata": {
  "kernelspec": {
   "display_name": "Python 3",
   "language": "python",
   "name": "python3"
  },
  "language_info": {
   "codemirror_mode": {
    "name": "ipython",
    "version": 3
   },
   "file_extension": ".py",
   "mimetype": "text/x-python",
   "name": "python",
   "nbconvert_exporter": "python",
   "pygments_lexer": "ipython3",
   "version": "3.11.4"
  }
 },
 "nbformat": 4,
 "nbformat_minor": 2
}
